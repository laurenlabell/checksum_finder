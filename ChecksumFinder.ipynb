{
  "nbformat": 4,
  "nbformat_minor": 0,
  "metadata": {
    "colab": {
      "name": "ChecksumFinder.ipynb",
      "provenance": [],
      "collapsed_sections": []
    },
    "kernelspec": {
      "name": "python3",
      "display_name": "Python 3"
    }
  },
  "cells": [
    {
      "cell_type": "code",
      "metadata": {
        "id": "zrCCD8VrVUq5",
        "colab_type": "code",
        "colab": {
          "base_uri": "https://localhost:8080/",
          "height": 119
        },
        "outputId": "4a4142d7-1b2c-4e78-aa52-98884bbff895"
      },
      "source": [
        "!git clone https://github.com/laurenlabell/checksum_finder.git"
      ],
      "execution_count": 1,
      "outputs": [
        {
          "output_type": "stream",
          "text": [
            "Cloning into 'checksum_finder'...\n",
            "remote: Enumerating objects: 11, done.\u001b[K\n",
            "remote: Counting objects: 100% (11/11), done.\u001b[K\n",
            "remote: Compressing objects: 100% (9/9), done.\u001b[K\n",
            "remote: Total 11 (delta 1), reused 0 (delta 0), pack-reused 0\u001b[K\n",
            "Unpacking objects: 100% (11/11), done.\n"
          ],
          "name": "stdout"
        }
      ]
    },
    {
      "cell_type": "markdown",
      "metadata": {
        "id": "VoVJ5egJeLEA",
        "colab_type": "text"
      },
      "source": [
        "# ChecksumFinder expects input in the form of hex messages, one per line in a text file. "
      ]
    },
    {
      "cell_type": "code",
      "metadata": {
        "id": "iYP4B7REeGGx",
        "colab_type": "code",
        "colab": {
          "base_uri": "https://localhost:8080/",
          "height": 119
        },
        "outputId": "f73d6d68-aec3-4845-e296-0d37ebf9825c"
      },
      "source": [
        "!cat checksum_finder/test1.txt"
      ],
      "execution_count": 5,
      "outputs": [
        {
          "output_type": "stream",
          "text": [
            "806FA30102B00818\n",
            "806FA30112800878\n",
            "1003A30001004006729E99940012120B\n",
            "1003A30001003007709C98940012121F\n",
            "1003A30001003806739C9B9400121202\n",
            "806FA30200800041\n"
          ],
          "name": "stdout"
        }
      ]
    },
    {
      "cell_type": "markdown",
      "metadata": {
        "id": "0dUiJ8BGeXuS",
        "colab_type": "text"
      },
      "source": [
        "# Perform Inference from messages in test1.txt and show output"
      ]
    },
    {
      "cell_type": "code",
      "metadata": {
        "id": "ZDgNikPSdNxS",
        "colab_type": "code",
        "colab": {
          "base_uri": "https://localhost:8080/",
          "height": 1000
        },
        "outputId": "ad34598a-ff16-4e9b-bb28-16a342a51065"
      },
      "source": [
        "!python3 checksum_finder/sumeng_module.py 8 checksum_finder/test1.txt"
      ],
      "execution_count": 3,
      "outputs": [
        {
          "output_type": "stream",
          "text": [
            "# entropy: 2.585 start: 0 end: 0 check: -1 foldOp: <built-in function add> finalOp: <built-in function xor> magicValue: 0x55\n",
            "# ================================================================================\n",
            "# Generated Code\n",
            "# --------------------------------------------------------------------------------\n",
            "\n",
            "\n",
            "\n",
            "import operator\n",
            "\n",
            "def pad(xs,w):\n",
            "\tn = len(xs)\n",
            "\ttarget_n = (-(-n//w)) * w\n",
            "\tdelta = target_n - n\n",
            "\txs_padded = xs+[0]*delta\n",
            "\treturn xs_padded\n",
            "\n",
            "def chunk(xs,w):\n",
            "\txs_chunked = [xs[i:i+w] for i in range(0,len(xs),w)]\n",
            "\treturn xs_chunked\n",
            "\n",
            "def to_int(x):\n",
            "\treturn int.from_bytes(bytes(x),'big')\n",
            "\n",
            "\n",
            "def preprocess(xs,w):\n",
            "\txs_padded = pad(xs,w)\n",
            "\txs_chunked = chunk(xs_padded,w)\n",
            "\txs_ints = [to_int(x) for x in xs_chunked]\n",
            "\treturn xs_ints\n",
            "\n",
            "\n",
            "def calculate_checksum(payload):\n",
            "\tmagicValue = 0x55\n",
            "\tmask = 0xFF\n",
            "\n",
            "\tchecksum = 0\n",
            "\tfor element in payload:\n",
            "\t\tchecksum = operator.add(checksum,element)\n",
            "\tchecksum =  operator.xor(checksum,magicValue)\n",
            "\treturn checksum & mask\n",
            "\n",
            "def validate_message(rawmsg):\n",
            "\tmsgStart = 0\n",
            "\tmsgEnd = 0\n",
            "\tchecksumPos = -1 \n",
            "\twidth = 1\n",
            "\n",
            "\tmsg = preprocess(rawmsg,width)\n",
            "\tpayload = msg[msgStart:]\n",
            "\tchecksum = msg[checksumPos]\n",
            "\tpayload[checksumPos] = 0\n",
            "\n",
            "\treturn calculate_checksum(payload) == checksum\n",
            "\n",
            "# ================================================================================\n",
            "# Unit Tests\n",
            "# --------------------------------------------------------------------------------\n",
            "\n",
            "print(validate_message([128, 111, 163, 1, 2, 176, 8, 24]),[128, 111, 163, 1, 2, 176, 8, 24])\n",
            "print(validate_message([128, 111, 163, 1, 18, 128, 8, 120]),[128, 111, 163, 1, 18, 128, 8, 120])\n",
            "print(validate_message([16, 3, 163, 0, 1, 0, 64, 6, 114, 158, 153, 148, 0, 18, 18, 11]),[16, 3, 163, 0, 1, 0, 64, 6, 114, 158, 153, 148, 0, 18, 18, 11])\n",
            "print(validate_message([16, 3, 163, 0, 1, 0, 48, 7, 112, 156, 152, 148, 0, 18, 18, 31]),[16, 3, 163, 0, 1, 0, 48, 7, 112, 156, 152, 148, 0, 18, 18, 31])\n",
            "print(validate_message([16, 3, 163, 0, 1, 0, 56, 6, 115, 156, 155, 148, 0, 18, 18, 2]),[16, 3, 163, 0, 1, 0, 56, 6, 115, 156, 155, 148, 0, 18, 18, 2])\n",
            "print(validate_message([128, 111, 163, 2, 0, 128, 0, 65]),[128, 111, 163, 2, 0, 128, 0, 65])\n"
          ],
          "name": "stdout"
        }
      ]
    },
    {
      "cell_type": "markdown",
      "metadata": {
        "id": "3J2l1SIlemlI",
        "colab_type": "text"
      },
      "source": [
        "# We can also pipe the output directly back to python to run the unit tests."
      ]
    },
    {
      "cell_type": "code",
      "metadata": {
        "id": "duyEnvRfdy5d",
        "colab_type": "code",
        "colab": {
          "base_uri": "https://localhost:8080/",
          "height": 119
        },
        "outputId": "b914eba0-0242-4787-d425-caadfdd90459"
      },
      "source": [
        "!python3 checksum_finder/sumeng_gen.py 8 checksum_finder/test1.txt | python3"
      ],
      "execution_count": 4,
      "outputs": [
        {
          "output_type": "stream",
          "text": [
            "True [128, 111, 163, 1, 2, 176, 8, 24]\n",
            "True [128, 111, 163, 1, 18, 128, 8, 120]\n",
            "True [16, 3, 163, 0, 1, 0, 64, 6, 114, 158, 153, 148, 0, 18, 18, 11]\n",
            "True [16, 3, 163, 0, 1, 0, 48, 7, 112, 156, 152, 148, 0, 18, 18, 31]\n",
            "True [16, 3, 163, 0, 1, 0, 56, 6, 115, 156, 155, 148, 0, 18, 18, 2]\n",
            "True [128, 111, 163, 2, 0, 128, 0, 65]\n"
          ],
          "name": "stdout"
        }
      ]
    }
  ]
}
